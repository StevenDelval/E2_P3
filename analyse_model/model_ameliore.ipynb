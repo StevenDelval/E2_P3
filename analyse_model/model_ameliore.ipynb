{
 "cells": [
  {
   "cell_type": "markdown",
   "metadata": {},
   "source": [
    "# Pipeline et modèle"
   ]
  },
  {
   "cell_type": "code",
   "execution_count": 1,
   "metadata": {},
   "outputs": [],
   "source": [
    "import pandas as pd\n",
    "\n",
    "from sklearn.pipeline import Pipeline\n",
    "from sklearn.preprocessing import OneHotEncoder,OrdinalEncoder,PolynomialFeatures,FunctionTransformer,StandardScaler\n",
    "from sklearn.impute import SimpleImputer\n",
    "from sklearn.compose import ColumnTransformer\n",
    "from sklearn.linear_model import LinearRegression\n",
    "from sklearn.metrics import mean_absolute_error\n",
    "\n",
    "pd.set_option('display.max_columns', None)\n",
    "\n",
    "import pickle"
   ]
  },
  {
   "cell_type": "code",
   "execution_count": 2,
   "metadata": {},
   "outputs": [],
   "source": [
    "df = pd.read_csv(\"../data/AmesHousing.csv\")"
   ]
  },
  {
   "cell_type": "markdown",
   "metadata": {},
   "source": [
    "Il ne faut selectionner que 10 features, on supprime Neighborhood qui est trop complexe à traiter, ainsi que bsmt Qual et garage Finish qui sont trop proches d'autres variables"
   ]
  },
  {
   "cell_type": "code",
   "execution_count": 3,
   "metadata": {},
   "outputs": [
    {
     "name": "stderr",
     "output_type": "stream",
     "text": [
      "/tmp/ipykernel_15902/1654445062.py:11: SettingWithCopyWarning: \n",
      "A value is trying to be set on a copy of a slice from a DataFrame\n",
      "\n",
      "See the caveats in the documentation: https://pandas.pydata.org/pandas-docs/stable/user_guide/indexing.html#returning-a-view-versus-a-copy\n",
      "  X[\"Total Bsmt SF\"].fillna(1052, inplace=True)\n",
      "/tmp/ipykernel_15902/1654445062.py:12: SettingWithCopyWarning: \n",
      "A value is trying to be set on a copy of a slice from a DataFrame\n",
      "\n",
      "See the caveats in the documentation: https://pandas.pydata.org/pandas-docs/stable/user_guide/indexing.html#returning-a-view-versus-a-copy\n",
      "  X[\"Garage Area\"].fillna(472, inplace=True)\n"
     ]
    }
   ],
   "source": [
    "numeric_features = [\"Year Built\", \"Total Bsmt SF\", \"1st Flr SF\", \"Gr Liv Area\", \"Garage Area\", \"Overall Qual\", \"Full Bath\"]\n",
    "ordinal_features = [ \"Exter Qual\",  \"Kitchen Qual\"]\n",
    "cat_feature = [\"Neighborhood\"]\n",
    "all_col = numeric_features.copy()\n",
    "all_col.extend(ordinal_features)\n",
    "all_col.extend(cat_feature)\n",
    "\n",
    "X = df[all_col]\n",
    "y = df[[\"SalePrice\"]]\n",
    "\n",
    "X[\"Total Bsmt SF\"].fillna(1052, inplace=True)\n",
    "X[\"Garage Area\"].fillna(472, inplace=True)"
   ]
  },
  {
   "cell_type": "code",
   "execution_count": 4,
   "metadata": {},
   "outputs": [],
   "source": [
    "X.columns = ['Year_Built', 'Total_Bsmt_SF', '1st_Flr_SF', 'Gr_Liv_Area','Garage_Area', 'Overall_Qual', 'Full_Bath', 'Exter_Qual',\n",
    "       'Kitchen_Qual', 'Neighborhood']"
   ]
  },
  {
   "cell_type": "code",
   "execution_count": 5,
   "metadata": {},
   "outputs": [],
   "source": [
    "from sklearn.model_selection import train_test_split\n",
    "X_train, X_test, y_train, y_test = train_test_split(X, y, test_size=0.2, random_state=42)"
   ]
  },
  {
   "cell_type": "code",
   "execution_count": 6,
   "metadata": {},
   "outputs": [],
   "source": [
    "numeric_transformer = SimpleImputer()\n",
    "\n",
    "exter_cat = [ 'Po', 'Fa','TA', 'Gd','Ex']\n",
    "kitchen_cat = [ 'Po', 'Fa','TA', 'Gd',\"Ex\"]\n",
    "\n",
    "ordinal_transformer = OrdinalEncoder(categories=[exter_cat, kitchen_cat])\n",
    "\n",
    "categorical_transformer = OneHotEncoder()"
   ]
  },
  {
   "cell_type": "code",
   "execution_count": null,
   "metadata": {},
   "outputs": [],
   "source": [
    "# poly_transformer = StandardScaler()\n",
    "\n",
    "# numeric_imputer = SimpleImputer() \n",
    "# numeric_transformer = Pipeline([\n",
    "#     ('imputer', numeric_imputer),\n",
    "#     ('poly', poly_transformer)\n",
    "# ])\n",
    "\n",
    "# exter_cat = [ 'Po', 'Fa','TA', 'Gd','Ex']\n",
    "# kitchen_cat = [ 'Po', 'Fa','TA', 'Gd',\"Ex\"]\n",
    "\n",
    "# ordinal_transformer = OrdinalEncoder(categories=[exter_cat, kitchen_cat])\n",
    "\n",
    "# categorical_transformer = OneHotEncoder()"
   ]
  },
  {
   "cell_type": "code",
   "execution_count": 7,
   "metadata": {},
   "outputs": [],
   "source": [
    "numeric_features = [\"Year_Built\", \"Total_Bsmt_SF\", \"1st_Flr_SF\", \"Gr_Liv_Area\", \"Garage_Area\", \"Overall_Qual\", \"Full_Bath\"]\n",
    "ordinal_features = [ \"Exter_Qual\",  \"Kitchen_Qual\"]\n",
    "cat_feature = [\"Neighborhood\"]\n",
    "\n",
    "preprocessor = ColumnTransformer(\n",
    "    transformers=[\n",
    "        ('num', numeric_transformer, numeric_features),\n",
    "        ('ord', ordinal_transformer, ordinal_features),\n",
    "        ('cat', categorical_transformer, cat_feature)\n",
    "    ]\n",
    ")"
   ]
  },
  {
   "cell_type": "code",
   "execution_count": 8,
   "metadata": {},
   "outputs": [],
   "source": [
    "reg = LinearRegression()"
   ]
  },
  {
   "cell_type": "code",
   "execution_count": 9,
   "metadata": {},
   "outputs": [
    {
     "data": {
      "text/html": [
       "<style>#sk-container-id-1 {color: black;}#sk-container-id-1 pre{padding: 0;}#sk-container-id-1 div.sk-toggleable {background-color: white;}#sk-container-id-1 label.sk-toggleable__label {cursor: pointer;display: block;width: 100%;margin-bottom: 0;padding: 0.3em;box-sizing: border-box;text-align: center;}#sk-container-id-1 label.sk-toggleable__label-arrow:before {content: \"▸\";float: left;margin-right: 0.25em;color: #696969;}#sk-container-id-1 label.sk-toggleable__label-arrow:hover:before {color: black;}#sk-container-id-1 div.sk-estimator:hover label.sk-toggleable__label-arrow:before {color: black;}#sk-container-id-1 div.sk-toggleable__content {max-height: 0;max-width: 0;overflow: hidden;text-align: left;background-color: #f0f8ff;}#sk-container-id-1 div.sk-toggleable__content pre {margin: 0.2em;color: black;border-radius: 0.25em;background-color: #f0f8ff;}#sk-container-id-1 input.sk-toggleable__control:checked~div.sk-toggleable__content {max-height: 200px;max-width: 100%;overflow: auto;}#sk-container-id-1 input.sk-toggleable__control:checked~label.sk-toggleable__label-arrow:before {content: \"▾\";}#sk-container-id-1 div.sk-estimator input.sk-toggleable__control:checked~label.sk-toggleable__label {background-color: #d4ebff;}#sk-container-id-1 div.sk-label input.sk-toggleable__control:checked~label.sk-toggleable__label {background-color: #d4ebff;}#sk-container-id-1 input.sk-hidden--visually {border: 0;clip: rect(1px 1px 1px 1px);clip: rect(1px, 1px, 1px, 1px);height: 1px;margin: -1px;overflow: hidden;padding: 0;position: absolute;width: 1px;}#sk-container-id-1 div.sk-estimator {font-family: monospace;background-color: #f0f8ff;border: 1px dotted black;border-radius: 0.25em;box-sizing: border-box;margin-bottom: 0.5em;}#sk-container-id-1 div.sk-estimator:hover {background-color: #d4ebff;}#sk-container-id-1 div.sk-parallel-item::after {content: \"\";width: 100%;border-bottom: 1px solid gray;flex-grow: 1;}#sk-container-id-1 div.sk-label:hover label.sk-toggleable__label {background-color: #d4ebff;}#sk-container-id-1 div.sk-serial::before {content: \"\";position: absolute;border-left: 1px solid gray;box-sizing: border-box;top: 0;bottom: 0;left: 50%;z-index: 0;}#sk-container-id-1 div.sk-serial {display: flex;flex-direction: column;align-items: center;background-color: white;padding-right: 0.2em;padding-left: 0.2em;position: relative;}#sk-container-id-1 div.sk-item {position: relative;z-index: 1;}#sk-container-id-1 div.sk-parallel {display: flex;align-items: stretch;justify-content: center;background-color: white;position: relative;}#sk-container-id-1 div.sk-item::before, #sk-container-id-1 div.sk-parallel-item::before {content: \"\";position: absolute;border-left: 1px solid gray;box-sizing: border-box;top: 0;bottom: 0;left: 50%;z-index: -1;}#sk-container-id-1 div.sk-parallel-item {display: flex;flex-direction: column;z-index: 1;position: relative;background-color: white;}#sk-container-id-1 div.sk-parallel-item:first-child::after {align-self: flex-end;width: 50%;}#sk-container-id-1 div.sk-parallel-item:last-child::after {align-self: flex-start;width: 50%;}#sk-container-id-1 div.sk-parallel-item:only-child::after {width: 0;}#sk-container-id-1 div.sk-dashed-wrapped {border: 1px dashed gray;margin: 0 0.4em 0.5em 0.4em;box-sizing: border-box;padding-bottom: 0.4em;background-color: white;}#sk-container-id-1 div.sk-label label {font-family: monospace;font-weight: bold;display: inline-block;line-height: 1.2em;}#sk-container-id-1 div.sk-label-container {text-align: center;}#sk-container-id-1 div.sk-container {/* jupyter's `normalize.less` sets `[hidden] { display: none; }` but bootstrap.min.css set `[hidden] { display: none !important; }` so we also need the `!important` here to be able to override the default hidden behavior on the sphinx rendered scikit-learn.org. See: https://github.com/scikit-learn/scikit-learn/issues/21755 */display: inline-block !important;position: relative;}#sk-container-id-1 div.sk-text-repr-fallback {display: none;}</style><div id=\"sk-container-id-1\" class=\"sk-top-container\"><div class=\"sk-text-repr-fallback\"><pre>Pipeline(steps=[(&#x27;preprocessor&#x27;,\n",
       "                 ColumnTransformer(transformers=[(&#x27;num&#x27;, SimpleImputer(),\n",
       "                                                  [&#x27;Year_Built&#x27;,\n",
       "                                                   &#x27;Total_Bsmt_SF&#x27;,\n",
       "                                                   &#x27;1st_Flr_SF&#x27;, &#x27;Gr_Liv_Area&#x27;,\n",
       "                                                   &#x27;Garage_Area&#x27;,\n",
       "                                                   &#x27;Overall_Qual&#x27;,\n",
       "                                                   &#x27;Full_Bath&#x27;]),\n",
       "                                                 (&#x27;ord&#x27;,\n",
       "                                                  OrdinalEncoder(categories=[[&#x27;Po&#x27;,\n",
       "                                                                              &#x27;Fa&#x27;,\n",
       "                                                                              &#x27;TA&#x27;,\n",
       "                                                                              &#x27;Gd&#x27;,\n",
       "                                                                              &#x27;Ex&#x27;],\n",
       "                                                                             [&#x27;Po&#x27;,\n",
       "                                                                              &#x27;Fa&#x27;,\n",
       "                                                                              &#x27;TA&#x27;,\n",
       "                                                                              &#x27;Gd&#x27;,\n",
       "                                                                              &#x27;Ex&#x27;]]),\n",
       "                                                  [&#x27;Exter_Qual&#x27;,\n",
       "                                                   &#x27;Kitchen_Qual&#x27;]),\n",
       "                                                 (&#x27;cat&#x27;, OneHotEncoder(),\n",
       "                                                  [&#x27;Neighborhood&#x27;])])),\n",
       "                (&#x27;reg&#x27;, LinearRegression())])</pre><b>In a Jupyter environment, please rerun this cell to show the HTML representation or trust the notebook. <br />On GitHub, the HTML representation is unable to render, please try loading this page with nbviewer.org.</b></div><div class=\"sk-container\" hidden><div class=\"sk-item sk-dashed-wrapped\"><div class=\"sk-label-container\"><div class=\"sk-label sk-toggleable\"><input class=\"sk-toggleable__control sk-hidden--visually\" id=\"sk-estimator-id-1\" type=\"checkbox\" ><label for=\"sk-estimator-id-1\" class=\"sk-toggleable__label sk-toggleable__label-arrow\">Pipeline</label><div class=\"sk-toggleable__content\"><pre>Pipeline(steps=[(&#x27;preprocessor&#x27;,\n",
       "                 ColumnTransformer(transformers=[(&#x27;num&#x27;, SimpleImputer(),\n",
       "                                                  [&#x27;Year_Built&#x27;,\n",
       "                                                   &#x27;Total_Bsmt_SF&#x27;,\n",
       "                                                   &#x27;1st_Flr_SF&#x27;, &#x27;Gr_Liv_Area&#x27;,\n",
       "                                                   &#x27;Garage_Area&#x27;,\n",
       "                                                   &#x27;Overall_Qual&#x27;,\n",
       "                                                   &#x27;Full_Bath&#x27;]),\n",
       "                                                 (&#x27;ord&#x27;,\n",
       "                                                  OrdinalEncoder(categories=[[&#x27;Po&#x27;,\n",
       "                                                                              &#x27;Fa&#x27;,\n",
       "                                                                              &#x27;TA&#x27;,\n",
       "                                                                              &#x27;Gd&#x27;,\n",
       "                                                                              &#x27;Ex&#x27;],\n",
       "                                                                             [&#x27;Po&#x27;,\n",
       "                                                                              &#x27;Fa&#x27;,\n",
       "                                                                              &#x27;TA&#x27;,\n",
       "                                                                              &#x27;Gd&#x27;,\n",
       "                                                                              &#x27;Ex&#x27;]]),\n",
       "                                                  [&#x27;Exter_Qual&#x27;,\n",
       "                                                   &#x27;Kitchen_Qual&#x27;]),\n",
       "                                                 (&#x27;cat&#x27;, OneHotEncoder(),\n",
       "                                                  [&#x27;Neighborhood&#x27;])])),\n",
       "                (&#x27;reg&#x27;, LinearRegression())])</pre></div></div></div><div class=\"sk-serial\"><div class=\"sk-item sk-dashed-wrapped\"><div class=\"sk-label-container\"><div class=\"sk-label sk-toggleable\"><input class=\"sk-toggleable__control sk-hidden--visually\" id=\"sk-estimator-id-2\" type=\"checkbox\" ><label for=\"sk-estimator-id-2\" class=\"sk-toggleable__label sk-toggleable__label-arrow\">preprocessor: ColumnTransformer</label><div class=\"sk-toggleable__content\"><pre>ColumnTransformer(transformers=[(&#x27;num&#x27;, SimpleImputer(),\n",
       "                                 [&#x27;Year_Built&#x27;, &#x27;Total_Bsmt_SF&#x27;, &#x27;1st_Flr_SF&#x27;,\n",
       "                                  &#x27;Gr_Liv_Area&#x27;, &#x27;Garage_Area&#x27;, &#x27;Overall_Qual&#x27;,\n",
       "                                  &#x27;Full_Bath&#x27;]),\n",
       "                                (&#x27;ord&#x27;,\n",
       "                                 OrdinalEncoder(categories=[[&#x27;Po&#x27;, &#x27;Fa&#x27;, &#x27;TA&#x27;,\n",
       "                                                             &#x27;Gd&#x27;, &#x27;Ex&#x27;],\n",
       "                                                            [&#x27;Po&#x27;, &#x27;Fa&#x27;, &#x27;TA&#x27;,\n",
       "                                                             &#x27;Gd&#x27;, &#x27;Ex&#x27;]]),\n",
       "                                 [&#x27;Exter_Qual&#x27;, &#x27;Kitchen_Qual&#x27;]),\n",
       "                                (&#x27;cat&#x27;, OneHotEncoder(), [&#x27;Neighborhood&#x27;])])</pre></div></div></div><div class=\"sk-parallel\"><div class=\"sk-parallel-item\"><div class=\"sk-item\"><div class=\"sk-label-container\"><div class=\"sk-label sk-toggleable\"><input class=\"sk-toggleable__control sk-hidden--visually\" id=\"sk-estimator-id-3\" type=\"checkbox\" ><label for=\"sk-estimator-id-3\" class=\"sk-toggleable__label sk-toggleable__label-arrow\">num</label><div class=\"sk-toggleable__content\"><pre>[&#x27;Year_Built&#x27;, &#x27;Total_Bsmt_SF&#x27;, &#x27;1st_Flr_SF&#x27;, &#x27;Gr_Liv_Area&#x27;, &#x27;Garage_Area&#x27;, &#x27;Overall_Qual&#x27;, &#x27;Full_Bath&#x27;]</pre></div></div></div><div class=\"sk-serial\"><div class=\"sk-item\"><div class=\"sk-estimator sk-toggleable\"><input class=\"sk-toggleable__control sk-hidden--visually\" id=\"sk-estimator-id-4\" type=\"checkbox\" ><label for=\"sk-estimator-id-4\" class=\"sk-toggleable__label sk-toggleable__label-arrow\">SimpleImputer</label><div class=\"sk-toggleable__content\"><pre>SimpleImputer()</pre></div></div></div></div></div></div><div class=\"sk-parallel-item\"><div class=\"sk-item\"><div class=\"sk-label-container\"><div class=\"sk-label sk-toggleable\"><input class=\"sk-toggleable__control sk-hidden--visually\" id=\"sk-estimator-id-5\" type=\"checkbox\" ><label for=\"sk-estimator-id-5\" class=\"sk-toggleable__label sk-toggleable__label-arrow\">ord</label><div class=\"sk-toggleable__content\"><pre>[&#x27;Exter_Qual&#x27;, &#x27;Kitchen_Qual&#x27;]</pre></div></div></div><div class=\"sk-serial\"><div class=\"sk-item\"><div class=\"sk-estimator sk-toggleable\"><input class=\"sk-toggleable__control sk-hidden--visually\" id=\"sk-estimator-id-6\" type=\"checkbox\" ><label for=\"sk-estimator-id-6\" class=\"sk-toggleable__label sk-toggleable__label-arrow\">OrdinalEncoder</label><div class=\"sk-toggleable__content\"><pre>OrdinalEncoder(categories=[[&#x27;Po&#x27;, &#x27;Fa&#x27;, &#x27;TA&#x27;, &#x27;Gd&#x27;, &#x27;Ex&#x27;],\n",
       "                           [&#x27;Po&#x27;, &#x27;Fa&#x27;, &#x27;TA&#x27;, &#x27;Gd&#x27;, &#x27;Ex&#x27;]])</pre></div></div></div></div></div></div><div class=\"sk-parallel-item\"><div class=\"sk-item\"><div class=\"sk-label-container\"><div class=\"sk-label sk-toggleable\"><input class=\"sk-toggleable__control sk-hidden--visually\" id=\"sk-estimator-id-7\" type=\"checkbox\" ><label for=\"sk-estimator-id-7\" class=\"sk-toggleable__label sk-toggleable__label-arrow\">cat</label><div class=\"sk-toggleable__content\"><pre>[&#x27;Neighborhood&#x27;]</pre></div></div></div><div class=\"sk-serial\"><div class=\"sk-item\"><div class=\"sk-estimator sk-toggleable\"><input class=\"sk-toggleable__control sk-hidden--visually\" id=\"sk-estimator-id-8\" type=\"checkbox\" ><label for=\"sk-estimator-id-8\" class=\"sk-toggleable__label sk-toggleable__label-arrow\">OneHotEncoder</label><div class=\"sk-toggleable__content\"><pre>OneHotEncoder()</pre></div></div></div></div></div></div></div></div><div class=\"sk-item\"><div class=\"sk-estimator sk-toggleable\"><input class=\"sk-toggleable__control sk-hidden--visually\" id=\"sk-estimator-id-9\" type=\"checkbox\" ><label for=\"sk-estimator-id-9\" class=\"sk-toggleable__label sk-toggleable__label-arrow\">LinearRegression</label><div class=\"sk-toggleable__content\"><pre>LinearRegression()</pre></div></div></div></div></div></div></div>"
      ],
      "text/plain": [
       "Pipeline(steps=[('preprocessor',\n",
       "                 ColumnTransformer(transformers=[('num', SimpleImputer(),\n",
       "                                                  ['Year_Built',\n",
       "                                                   'Total_Bsmt_SF',\n",
       "                                                   '1st_Flr_SF', 'Gr_Liv_Area',\n",
       "                                                   'Garage_Area',\n",
       "                                                   'Overall_Qual',\n",
       "                                                   'Full_Bath']),\n",
       "                                                 ('ord',\n",
       "                                                  OrdinalEncoder(categories=[['Po',\n",
       "                                                                              'Fa',\n",
       "                                                                              'TA',\n",
       "                                                                              'Gd',\n",
       "                                                                              'Ex'],\n",
       "                                                                             ['Po',\n",
       "                                                                              'Fa',\n",
       "                                                                              'TA',\n",
       "                                                                              'Gd',\n",
       "                                                                              'Ex']]),\n",
       "                                                  ['Exter_Qual',\n",
       "                                                   'Kitchen_Qual']),\n",
       "                                                 ('cat', OneHotEncoder(),\n",
       "                                                  ['Neighborhood'])])),\n",
       "                ('reg', LinearRegression())])"
      ]
     },
     "execution_count": 9,
     "metadata": {},
     "output_type": "execute_result"
    }
   ],
   "source": [
    "pipe = Pipeline([\n",
    "     ('preprocessor', preprocessor),\n",
    "     ('reg', reg)\n",
    "])\n",
    "\n",
    "pipe.fit(X_train, y_train) "
   ]
  },
  {
   "cell_type": "code",
   "execution_count": 10,
   "metadata": {},
   "outputs": [
    {
     "name": "stdout",
     "output_type": "stream",
     "text": [
      "MAE on train data:  20289.33639741511\n",
      "MAE on test data:  21324.92012401977\n"
     ]
    }
   ],
   "source": [
    "pipe.score(X_test,y_test)\n",
    "\n",
    "predict_train  = pipe.predict(X_train)\n",
    "predict_test  = pipe.predict(X_test)\n",
    "\n",
    "# Root Mean Squared Error on train and test date\n",
    "print('MAE on train data: ', mean_absolute_error(y_train, predict_train))\n",
    "print('MAE on test data: ',  mean_absolute_error(y_test, predict_test))"
   ]
  },
  {
   "cell_type": "code",
   "execution_count": 11,
   "metadata": {},
   "outputs": [],
   "source": [
    "filename = '../real_estate_app/main_app/static/models/finalized_model.pkl'\n",
    "pickle.dump(pipe, open(filename, 'wb'))"
   ]
  },
  {
   "cell_type": "code",
   "execution_count": 12,
   "metadata": {},
   "outputs": [
    {
     "data": {
      "text/plain": [
       "array(['num__Year_Built', 'num__Total_Bsmt_SF', 'num__1st_Flr_SF',\n",
       "       'num__Gr_Liv_Area', 'num__Garage_Area', 'num__Overall_Qual',\n",
       "       'num__Full_Bath', 'ord__Exter_Qual', 'ord__Kitchen_Qual',\n",
       "       'cat__Neighborhood_Blmngtn', 'cat__Neighborhood_Blueste',\n",
       "       'cat__Neighborhood_BrDale', 'cat__Neighborhood_BrkSide',\n",
       "       'cat__Neighborhood_ClearCr', 'cat__Neighborhood_CollgCr',\n",
       "       'cat__Neighborhood_Crawfor', 'cat__Neighborhood_Edwards',\n",
       "       'cat__Neighborhood_Gilbert', 'cat__Neighborhood_Greens',\n",
       "       'cat__Neighborhood_GrnHill', 'cat__Neighborhood_IDOTRR',\n",
       "       'cat__Neighborhood_Landmrk', 'cat__Neighborhood_MeadowV',\n",
       "       'cat__Neighborhood_Mitchel', 'cat__Neighborhood_NAmes',\n",
       "       'cat__Neighborhood_NPkVill', 'cat__Neighborhood_NWAmes',\n",
       "       'cat__Neighborhood_NoRidge', 'cat__Neighborhood_NridgHt',\n",
       "       'cat__Neighborhood_OldTown', 'cat__Neighborhood_SWISU',\n",
       "       'cat__Neighborhood_Sawyer', 'cat__Neighborhood_SawyerW',\n",
       "       'cat__Neighborhood_Somerst', 'cat__Neighborhood_StoneBr',\n",
       "       'cat__Neighborhood_Timber', 'cat__Neighborhood_Veenker'],\n",
       "      dtype=object)"
      ]
     },
     "execution_count": 12,
     "metadata": {},
     "output_type": "execute_result"
    }
   ],
   "source": [
    "pipe[:-1].get_feature_names_out()"
   ]
  },
  {
   "cell_type": "code",
   "execution_count": 13,
   "metadata": {},
   "outputs": [
    {
     "data": {
      "text/plain": [
       "array([ 2.51531081e+02,  1.64097640e+01,  6.70358468e+00,  4.65307922e+01,\n",
       "        3.65359717e+01,  1.30815790e+04, -4.22489357e+03,  8.61830196e+03,\n",
       "        1.41005464e+04, -2.29019844e+04, -3.57892977e+04, -2.96299365e+04,\n",
       "       -2.01198435e+03,  1.51793760e+04, -7.22868200e+03,  1.85227164e+04,\n",
       "       -1.05616635e+04, -4.61249038e+03, -1.76428810e+04,  7.00093129e+04,\n",
       "       -1.18955926e+04, -8.72451935e+03, -1.60721428e+04, -5.02270104e+03,\n",
       "       -6.56589100e+03, -1.75121358e+04, -8.46259494e+03,  4.21959161e+04,\n",
       "        3.26745822e+04, -1.73871011e+04, -1.11588342e+04, -3.85752339e+03,\n",
       "       -1.41174641e+04, -3.11859739e+03,  5.44955130e+04,  1.07981065e+04,\n",
       "        1.03984943e+04])"
      ]
     },
     "execution_count": 13,
     "metadata": {},
     "output_type": "execute_result"
    }
   ],
   "source": [
    "pipe[-1].coef_[0]"
   ]
  },
  {
   "cell_type": "code",
   "execution_count": 14,
   "metadata": {},
   "outputs": [
    {
     "name": "stdout",
     "output_type": "stream",
     "text": [
      "La valeur de l'intercept est : -554673.7178723412\n"
     ]
    }
   ],
   "source": [
    "print(f\"La valeur de l'intercept est : {pipe[-1].intercept_[0]}\")"
   ]
  },
  {
   "cell_type": "code",
   "execution_count": 15,
   "metadata": {},
   "outputs": [
    {
     "data": {
      "text/html": [
       "<div>\n",
       "<style scoped>\n",
       "    .dataframe tbody tr th:only-of-type {\n",
       "        vertical-align: middle;\n",
       "    }\n",
       "\n",
       "    .dataframe tbody tr th {\n",
       "        vertical-align: top;\n",
       "    }\n",
       "\n",
       "    .dataframe thead th {\n",
       "        text-align: right;\n",
       "    }\n",
       "</style>\n",
       "<table border=\"1\" class=\"dataframe\">\n",
       "  <thead>\n",
       "    <tr style=\"text-align: right;\">\n",
       "      <th></th>\n",
       "      <th>Coef</th>\n",
       "    </tr>\n",
       "  </thead>\n",
       "  <tbody>\n",
       "    <tr>\n",
       "      <th>cat__Neighborhood_GrnHill</th>\n",
       "      <td>70009.312851</td>\n",
       "    </tr>\n",
       "    <tr>\n",
       "      <th>cat__Neighborhood_StoneBr</th>\n",
       "      <td>54495.512965</td>\n",
       "    </tr>\n",
       "    <tr>\n",
       "      <th>cat__Neighborhood_NoRidge</th>\n",
       "      <td>42195.916130</td>\n",
       "    </tr>\n",
       "    <tr>\n",
       "      <th>cat__Neighborhood_NridgHt</th>\n",
       "      <td>32674.582242</td>\n",
       "    </tr>\n",
       "    <tr>\n",
       "      <th>cat__Neighborhood_Crawfor</th>\n",
       "      <td>18522.716399</td>\n",
       "    </tr>\n",
       "    <tr>\n",
       "      <th>cat__Neighborhood_ClearCr</th>\n",
       "      <td>15179.375997</td>\n",
       "    </tr>\n",
       "    <tr>\n",
       "      <th>ord__Kitchen_Qual</th>\n",
       "      <td>14100.546362</td>\n",
       "    </tr>\n",
       "    <tr>\n",
       "      <th>num__Overall_Qual</th>\n",
       "      <td>13081.578961</td>\n",
       "    </tr>\n",
       "    <tr>\n",
       "      <th>cat__Neighborhood_Timber</th>\n",
       "      <td>10798.106539</td>\n",
       "    </tr>\n",
       "    <tr>\n",
       "      <th>cat__Neighborhood_Veenker</th>\n",
       "      <td>10398.494346</td>\n",
       "    </tr>\n",
       "    <tr>\n",
       "      <th>ord__Exter_Qual</th>\n",
       "      <td>8618.301958</td>\n",
       "    </tr>\n",
       "    <tr>\n",
       "      <th>num__Year_Built</th>\n",
       "      <td>251.531081</td>\n",
       "    </tr>\n",
       "    <tr>\n",
       "      <th>num__Gr_Liv_Area</th>\n",
       "      <td>46.530792</td>\n",
       "    </tr>\n",
       "    <tr>\n",
       "      <th>num__Garage_Area</th>\n",
       "      <td>36.535972</td>\n",
       "    </tr>\n",
       "    <tr>\n",
       "      <th>num__Total_Bsmt_SF</th>\n",
       "      <td>16.409764</td>\n",
       "    </tr>\n",
       "    <tr>\n",
       "      <th>num__1st_Flr_SF</th>\n",
       "      <td>6.703585</td>\n",
       "    </tr>\n",
       "    <tr>\n",
       "      <th>cat__Neighborhood_BrkSide</th>\n",
       "      <td>-2011.984353</td>\n",
       "    </tr>\n",
       "    <tr>\n",
       "      <th>cat__Neighborhood_Somerst</th>\n",
       "      <td>-3118.597387</td>\n",
       "    </tr>\n",
       "    <tr>\n",
       "      <th>cat__Neighborhood_Sawyer</th>\n",
       "      <td>-3857.523385</td>\n",
       "    </tr>\n",
       "    <tr>\n",
       "      <th>num__Full_Bath</th>\n",
       "      <td>-4224.893566</td>\n",
       "    </tr>\n",
       "    <tr>\n",
       "      <th>cat__Neighborhood_Gilbert</th>\n",
       "      <td>-4612.490379</td>\n",
       "    </tr>\n",
       "    <tr>\n",
       "      <th>cat__Neighborhood_Mitchel</th>\n",
       "      <td>-5022.701035</td>\n",
       "    </tr>\n",
       "    <tr>\n",
       "      <th>cat__Neighborhood_NAmes</th>\n",
       "      <td>-6565.890996</td>\n",
       "    </tr>\n",
       "    <tr>\n",
       "      <th>cat__Neighborhood_CollgCr</th>\n",
       "      <td>-7228.681997</td>\n",
       "    </tr>\n",
       "    <tr>\n",
       "      <th>cat__Neighborhood_NWAmes</th>\n",
       "      <td>-8462.594942</td>\n",
       "    </tr>\n",
       "    <tr>\n",
       "      <th>cat__Neighborhood_Landmrk</th>\n",
       "      <td>-8724.519347</td>\n",
       "    </tr>\n",
       "    <tr>\n",
       "      <th>cat__Neighborhood_Edwards</th>\n",
       "      <td>-10561.663549</td>\n",
       "    </tr>\n",
       "    <tr>\n",
       "      <th>cat__Neighborhood_SWISU</th>\n",
       "      <td>-11158.834171</td>\n",
       "    </tr>\n",
       "    <tr>\n",
       "      <th>cat__Neighborhood_IDOTRR</th>\n",
       "      <td>-11895.592575</td>\n",
       "    </tr>\n",
       "    <tr>\n",
       "      <th>cat__Neighborhood_SawyerW</th>\n",
       "      <td>-14117.464079</td>\n",
       "    </tr>\n",
       "    <tr>\n",
       "      <th>cat__Neighborhood_MeadowV</th>\n",
       "      <td>-16072.142770</td>\n",
       "    </tr>\n",
       "    <tr>\n",
       "      <th>cat__Neighborhood_OldTown</th>\n",
       "      <td>-17387.101110</td>\n",
       "    </tr>\n",
       "    <tr>\n",
       "      <th>cat__Neighborhood_NPkVill</th>\n",
       "      <td>-17512.135773</td>\n",
       "    </tr>\n",
       "    <tr>\n",
       "      <th>cat__Neighborhood_Greens</th>\n",
       "      <td>-17642.881034</td>\n",
       "    </tr>\n",
       "    <tr>\n",
       "      <th>cat__Neighborhood_Blmngtn</th>\n",
       "      <td>-22901.984432</td>\n",
       "    </tr>\n",
       "    <tr>\n",
       "      <th>cat__Neighborhood_BrDale</th>\n",
       "      <td>-29629.936481</td>\n",
       "    </tr>\n",
       "    <tr>\n",
       "      <th>cat__Neighborhood_Blueste</th>\n",
       "      <td>-35789.297676</td>\n",
       "    </tr>\n",
       "  </tbody>\n",
       "</table>\n",
       "</div>"
      ],
      "text/plain": [
       "                                   Coef\n",
       "cat__Neighborhood_GrnHill  70009.312851\n",
       "cat__Neighborhood_StoneBr  54495.512965\n",
       "cat__Neighborhood_NoRidge  42195.916130\n",
       "cat__Neighborhood_NridgHt  32674.582242\n",
       "cat__Neighborhood_Crawfor  18522.716399\n",
       "cat__Neighborhood_ClearCr  15179.375997\n",
       "ord__Kitchen_Qual          14100.546362\n",
       "num__Overall_Qual          13081.578961\n",
       "cat__Neighborhood_Timber   10798.106539\n",
       "cat__Neighborhood_Veenker  10398.494346\n",
       "ord__Exter_Qual             8618.301958\n",
       "num__Year_Built              251.531081\n",
       "num__Gr_Liv_Area              46.530792\n",
       "num__Garage_Area              36.535972\n",
       "num__Total_Bsmt_SF            16.409764\n",
       "num__1st_Flr_SF                6.703585\n",
       "cat__Neighborhood_BrkSide  -2011.984353\n",
       "cat__Neighborhood_Somerst  -3118.597387\n",
       "cat__Neighborhood_Sawyer   -3857.523385\n",
       "num__Full_Bath             -4224.893566\n",
       "cat__Neighborhood_Gilbert  -4612.490379\n",
       "cat__Neighborhood_Mitchel  -5022.701035\n",
       "cat__Neighborhood_NAmes    -6565.890996\n",
       "cat__Neighborhood_CollgCr  -7228.681997\n",
       "cat__Neighborhood_NWAmes   -8462.594942\n",
       "cat__Neighborhood_Landmrk  -8724.519347\n",
       "cat__Neighborhood_Edwards -10561.663549\n",
       "cat__Neighborhood_SWISU   -11158.834171\n",
       "cat__Neighborhood_IDOTRR  -11895.592575\n",
       "cat__Neighborhood_SawyerW -14117.464079\n",
       "cat__Neighborhood_MeadowV -16072.142770\n",
       "cat__Neighborhood_OldTown -17387.101110\n",
       "cat__Neighborhood_NPkVill -17512.135773\n",
       "cat__Neighborhood_Greens  -17642.881034\n",
       "cat__Neighborhood_Blmngtn -22901.984432\n",
       "cat__Neighborhood_BrDale  -29629.936481\n",
       "cat__Neighborhood_Blueste -35789.297676"
      ]
     },
     "execution_count": 15,
     "metadata": {},
     "output_type": "execute_result"
    }
   ],
   "source": [
    "pd.DataFrame(dict(zip(pipe[:-1].get_feature_names_out(), pipe[-1].coef_[0])),index=[\"Coef\"]).T.sort_values(by=\"Coef\",ascending=False)"
   ]
  },
  {
   "cell_type": "code",
   "execution_count": 16,
   "metadata": {},
   "outputs": [],
   "source": [
    "dico = {'Year_Built': 2000, 'Total_Bsmt_SF': 1, '1st_Flr_SF': 1, 'Gr_Liv_Area': 1, 'Garage_Area': 1, 'Overall_Qual': 1, 'Full_Bath': 1, 'Exter_Qual': 'Po', 'Kitchen_Qual': 'Po', 'Neighborhood': 'Gilbert'}"
   ]
  },
  {
   "cell_type": "code",
   "execution_count": 17,
   "metadata": {},
   "outputs": [
    {
     "data": {
      "text/plain": [
       "array([[-47261.18055516]])"
      ]
     },
     "execution_count": 17,
     "metadata": {},
     "output_type": "execute_result"
    }
   ],
   "source": [
    "pipe.predict(pd.DataFrame(dico,index=[0]))"
   ]
  },
  {
   "cell_type": "code",
   "execution_count": null,
   "metadata": {},
   "outputs": [],
   "source": []
  }
 ],
 "metadata": {
  "kernelspec": {
   "display_name": "env",
   "language": "python",
   "name": "python3"
  },
  "language_info": {
   "codemirror_mode": {
    "name": "ipython",
    "version": 3
   },
   "file_extension": ".py",
   "mimetype": "text/x-python",
   "name": "python",
   "nbconvert_exporter": "python",
   "pygments_lexer": "ipython3",
   "version": "3.9.17"
  },
  "orig_nbformat": 4
 },
 "nbformat": 4,
 "nbformat_minor": 2
}
